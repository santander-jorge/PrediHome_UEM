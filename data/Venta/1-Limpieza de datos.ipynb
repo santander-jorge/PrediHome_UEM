{
 "cells": [
  {
   "cell_type": "markdown",
   "metadata": {},
   "source": [
    "# Librerías y lectura"
   ]
  },
  {
   "cell_type": "markdown",
   "metadata": {},
   "source": [
    "Importación de librerías"
   ]
  },
  {
   "cell_type": "code",
   "execution_count": 93,
   "metadata": {},
   "outputs": [],
   "source": [
    "import pandas as pd\n",
    "import numpy as np"
   ]
  },
  {
   "cell_type": "code",
   "execution_count": 94,
   "metadata": {},
   "outputs": [],
   "source": [
    "#pip freeze > requirements.txt"
   ]
  },
  {
   "cell_type": "markdown",
   "metadata": {},
   "source": [
    "Lectura del CSV y primer vistazo"
   ]
  },
  {
   "cell_type": "code",
   "execution_count": 95,
   "metadata": {},
   "outputs": [
    {
     "name": "stdout",
     "output_type": "stream",
     "text": [
      "El tamaño del dataframe es: (2961, 24)\n"
     ]
    },
    {
     "data": {
      "text/html": [
       "<div>\n",
       "<style scoped>\n",
       "    .dataframe tbody tr th:only-of-type {\n",
       "        vertical-align: middle;\n",
       "    }\n",
       "\n",
       "    .dataframe tbody tr th {\n",
       "        vertical-align: top;\n",
       "    }\n",
       "\n",
       "    .dataframe thead th {\n",
       "        text-align: right;\n",
       "    }\n",
       "</style>\n",
       "<table border=\"1\" class=\"dataframe\">\n",
       "  <thead>\n",
       "    <tr style=\"text-align: right;\">\n",
       "      <th></th>\n",
       "      <th>Referencia</th>\n",
       "      <th>Tipo_vivienda</th>\n",
       "      <th>Dirección</th>\n",
       "      <th>Barrio</th>\n",
       "      <th>Distrito</th>\n",
       "      <th>Población</th>\n",
       "      <th>Superficie construida</th>\n",
       "      <th>Superficie útil</th>\n",
       "      <th>Superficie solar</th>\n",
       "      <th>Habitaciones</th>\n",
       "      <th>...</th>\n",
       "      <th>Gastos de comunidad</th>\n",
       "      <th>Precio</th>\n",
       "      <th>Precio/m²</th>\n",
       "      <th>PMZona</th>\n",
       "      <th>PMm²Zona</th>\n",
       "      <th>RMP</th>\n",
       "      <th>RMH</th>\n",
       "      <th>Descripción</th>\n",
       "      <th>Url_foto</th>\n",
       "      <th>Url_vivienda</th>\n",
       "    </tr>\n",
       "  </thead>\n",
       "  <tbody>\n",
       "    <tr>\n",
       "      <th>0</th>\n",
       "      <td>IF7146-P1739</td>\n",
       "      <td>Piso</td>\n",
       "      <td>Calle de Goya, 17</td>\n",
       "      <td>Golf-El Carralero</td>\n",
       "      <td>Majadahonda</td>\n",
       "      <td>Majadahonda</td>\n",
       "      <td>139.0</td>\n",
       "      <td>NaN</td>\n",
       "      <td>0.0</td>\n",
       "      <td>3</td>\n",
       "      <td>...</td>\n",
       "      <td>NaN</td>\n",
       "      <td>595000.0</td>\n",
       "      <td>4280.575540</td>\n",
       "      <td>806473.17</td>\n",
       "      <td>3809.79</td>\n",
       "      <td>21248.0</td>\n",
       "      <td>66390.0</td>\n",
       "      <td>¡Increíble oportunidad de adquirir un piso en ...</td>\n",
       "      <td>https://fotos.imghs.net/apps/1018/424/1018_102...</td>\n",
       "      <td>https://www.pisos.com/comprar/piso-golf_el_car...</td>\n",
       "    </tr>\n",
       "    <tr>\n",
       "      <th>1</th>\n",
       "      <td>2805-002322</td>\n",
       "      <td>Piso</td>\n",
       "      <td>Calle del Terral</td>\n",
       "      <td>Prado de Somosaguas</td>\n",
       "      <td>Pozuelo de Alarcón</td>\n",
       "      <td>Pozuelo de Alarcón</td>\n",
       "      <td>125.0</td>\n",
       "      <td>125.0</td>\n",
       "      <td>0.0</td>\n",
       "      <td>2</td>\n",
       "      <td>...</td>\n",
       "      <td>Incluídos</td>\n",
       "      <td>540000.0</td>\n",
       "      <td>4320.000000</td>\n",
       "      <td>1028586.40</td>\n",
       "      <td>4151.27</td>\n",
       "      <td>27167.0</td>\n",
       "      <td>86403.0</td>\n",
       "      <td>INMOBARALIA VENDE PISO EN RENTABILIDAD (Se ven...</td>\n",
       "      <td>https://fotos.imghs.net/apps/2805/30074966438....</td>\n",
       "      <td>https://www.pisos.com/comprar/piso-prado_de_so...</td>\n",
       "    </tr>\n",
       "    <tr>\n",
       "      <th>2</th>\n",
       "      <td>4514156-CONCEPCION</td>\n",
       "      <td>Piso</td>\n",
       "      <td>Calle de la Virgen de Sonsoles, 1</td>\n",
       "      <td>Concepción</td>\n",
       "      <td>Ciudad Lineal</td>\n",
       "      <td>Madrid Capital</td>\n",
       "      <td>95.0</td>\n",
       "      <td>85.0</td>\n",
       "      <td>0.0</td>\n",
       "      <td>3</td>\n",
       "      <td>...</td>\n",
       "      <td>Entre 80 y 100 €</td>\n",
       "      <td>330000.0</td>\n",
       "      <td>3473.684211</td>\n",
       "      <td>404569.14</td>\n",
       "      <td>4016.05</td>\n",
       "      <td>16890.0</td>\n",
       "      <td>41311.0</td>\n",
       "      <td>Bonito piso muy luminoso y soleado, exterior c...</td>\n",
       "      <td>https://fotos.imghs.net/apps/514156/3418914857...</td>\n",
       "      <td>https://www.pisos.com/comprar/piso-concepcion-...</td>\n",
       "    </tr>\n",
       "    <tr>\n",
       "      <th>3</th>\n",
       "      <td>4501235-120920037</td>\n",
       "      <td>Casa unifamiliar</td>\n",
       "      <td>Lozoyuela</td>\n",
       "      <td>Lozoyuela</td>\n",
       "      <td>Lozoyuela-Navas-Sieteiglesias</td>\n",
       "      <td>Lozoyuela-Navas-Sieteiglesias</td>\n",
       "      <td>315.0</td>\n",
       "      <td>125.0</td>\n",
       "      <td>976.0</td>\n",
       "      <td>4</td>\n",
       "      <td>...</td>\n",
       "      <td>NaN</td>\n",
       "      <td>263000.0</td>\n",
       "      <td>834.920635</td>\n",
       "      <td>246857.14</td>\n",
       "      <td>1397.97</td>\n",
       "      <td>11600.0</td>\n",
       "      <td>29083.0</td>\n",
       "      <td>BREM GLOBAL INMOBILIARIA presenta esta LUMINOS...</td>\n",
       "      <td>https://fotos.imghs.net/apps/501235/3583530024...</td>\n",
       "      <td>https://www.pisos.com/comprar/casa_unifamiliar...</td>\n",
       "    </tr>\n",
       "    <tr>\n",
       "      <th>4</th>\n",
       "      <td>GM32-191775</td>\n",
       "      <td>Piso</td>\n",
       "      <td>Monterrozas-El Cantizal</td>\n",
       "      <td>Monte Rozas-La Chopera</td>\n",
       "      <td>Las Rozas de Madrid</td>\n",
       "      <td>Las Rozas de Madrid</td>\n",
       "      <td>89.0</td>\n",
       "      <td>NaN</td>\n",
       "      <td>0.0</td>\n",
       "      <td>2</td>\n",
       "      <td>...</td>\n",
       "      <td>NaN</td>\n",
       "      <td>378000.0</td>\n",
       "      <td>4247.191011</td>\n",
       "      <td>734591.73</td>\n",
       "      <td>3773.82</td>\n",
       "      <td>21254.0</td>\n",
       "      <td>65428.0</td>\n",
       "      <td>GILMAR Las Rozas vende piso en el Cantizal de ...</td>\n",
       "      <td>https://fotos.imghs.net/apps/1021/775/1021_191...</td>\n",
       "      <td>https://www.pisos.com/comprar/piso-monte_rozas...</td>\n",
       "    </tr>\n",
       "  </tbody>\n",
       "</table>\n",
       "<p>5 rows × 24 columns</p>\n",
       "</div>"
      ],
      "text/plain": [
       "           Referencia     Tipo_vivienda                          Dirección  \\\n",
       "0        IF7146-P1739              Piso                  Calle de Goya, 17   \n",
       "1         2805-002322              Piso                   Calle del Terral   \n",
       "2  4514156-CONCEPCION              Piso  Calle de la Virgen de Sonsoles, 1   \n",
       "3   4501235-120920037  Casa unifamiliar                          Lozoyuela   \n",
       "4         GM32-191775              Piso            Monterrozas-El Cantizal   \n",
       "\n",
       "                   Barrio                       Distrito  \\\n",
       "0       Golf-El Carralero                    Majadahonda   \n",
       "1     Prado de Somosaguas             Pozuelo de Alarcón   \n",
       "2              Concepción                  Ciudad Lineal   \n",
       "3               Lozoyuela  Lozoyuela-Navas-Sieteiglesias   \n",
       "4  Monte Rozas-La Chopera            Las Rozas de Madrid   \n",
       "\n",
       "                       Población  Superficie construida  Superficie útil  \\\n",
       "0                    Majadahonda                  139.0              NaN   \n",
       "1             Pozuelo de Alarcón                  125.0            125.0   \n",
       "2                 Madrid Capital                   95.0             85.0   \n",
       "3  Lozoyuela-Navas-Sieteiglesias                  315.0            125.0   \n",
       "4            Las Rozas de Madrid                   89.0              NaN   \n",
       "\n",
       "   Superficie solar  Habitaciones  ...  Gastos de comunidad    Precio  \\\n",
       "0               0.0             3  ...                  NaN  595000.0   \n",
       "1               0.0             2  ...            Incluídos  540000.0   \n",
       "2               0.0             3  ...     Entre 80 y 100 €  330000.0   \n",
       "3             976.0             4  ...                  NaN  263000.0   \n",
       "4               0.0             2  ...                  NaN  378000.0   \n",
       "\n",
       "     Precio/m²      PMZona PMm²Zona      RMP      RMH  \\\n",
       "0  4280.575540   806473.17  3809.79  21248.0  66390.0   \n",
       "1  4320.000000  1028586.40  4151.27  27167.0  86403.0   \n",
       "2  3473.684211   404569.14  4016.05  16890.0  41311.0   \n",
       "3   834.920635   246857.14  1397.97  11600.0  29083.0   \n",
       "4  4247.191011   734591.73  3773.82  21254.0  65428.0   \n",
       "\n",
       "                                         Descripción  \\\n",
       "0  ¡Increíble oportunidad de adquirir un piso en ...   \n",
       "1  INMOBARALIA VENDE PISO EN RENTABILIDAD (Se ven...   \n",
       "2  Bonito piso muy luminoso y soleado, exterior c...   \n",
       "3  BREM GLOBAL INMOBILIARIA presenta esta LUMINOS...   \n",
       "4  GILMAR Las Rozas vende piso en el Cantizal de ...   \n",
       "\n",
       "                                            Url_foto  \\\n",
       "0  https://fotos.imghs.net/apps/1018/424/1018_102...   \n",
       "1  https://fotos.imghs.net/apps/2805/30074966438....   \n",
       "2  https://fotos.imghs.net/apps/514156/3418914857...   \n",
       "3  https://fotos.imghs.net/apps/501235/3583530024...   \n",
       "4  https://fotos.imghs.net/apps/1021/775/1021_191...   \n",
       "\n",
       "                                        Url_vivienda  \n",
       "0  https://www.pisos.com/comprar/piso-golf_el_car...  \n",
       "1  https://www.pisos.com/comprar/piso-prado_de_so...  \n",
       "2  https://www.pisos.com/comprar/piso-concepcion-...  \n",
       "3  https://www.pisos.com/comprar/casa_unifamiliar...  \n",
       "4  https://www.pisos.com/comprar/piso-monte_rozas...  \n",
       "\n",
       "[5 rows x 24 columns]"
      ]
     },
     "execution_count": 95,
     "metadata": {},
     "output_type": "execute_result"
    }
   ],
   "source": [
    "df_original = pd.read_csv('Anuncios_venta_dataset_final.csv', sep=';')\n",
    "\n",
    "# Eliminamos los espacios en blanco al principio y al final de cada celda\n",
    "df_original = df_original.applymap(lambda x: x.strip() if isinstance(x, str) else x)\n",
    "\n",
    "\n",
    "print('El tamaño del dataframe es:', df_original.shape)\n",
    "df_original.head(5)"
   ]
  },
  {
   "cell_type": "code",
   "execution_count": 96,
   "metadata": {},
   "outputs": [],
   "source": [
    "dfdistrito = df_original.groupby('Distrito').first()[['RMH', 'PMm²Zona', 'PMZona']]\n",
    "dfdistrito.to_csv('Distrito_medidas.csv', sep=';')"
   ]
  },
  {
   "cell_type": "code",
   "execution_count": 97,
   "metadata": {},
   "outputs": [],
   "source": [
    "pd.DataFrame(df_original['Tipo_vivienda'].unique(), columns=['TipoVivienda']).to_csv('Tipo_vivienda.csv', sep=';')"
   ]
  },
  {
   "cell_type": "code",
   "execution_count": 98,
   "metadata": {},
   "outputs": [
    {
     "data": {
      "text/plain": [
       "Referencia                object\n",
       "Tipo_vivienda             object\n",
       "Dirección                 object\n",
       "Barrio                    object\n",
       "Distrito                  object\n",
       "Población                 object\n",
       "Superficie construida    float64\n",
       "Superficie útil          float64\n",
       "Superficie solar         float64\n",
       "Habitaciones               int64\n",
       "Baños                      int64\n",
       "Planta                    object\n",
       "Antigüedad                object\n",
       "Conservación              object\n",
       "Gastos de comunidad       object\n",
       "Precio                   float64\n",
       "Precio/m²                float64\n",
       "PMZona                   float64\n",
       "PMm²Zona                 float64\n",
       "RMP                      float64\n",
       "RMH                      float64\n",
       "Descripción               object\n",
       "Url_foto                  object\n",
       "Url_vivienda              object\n",
       "dtype: object"
      ]
     },
     "execution_count": 98,
     "metadata": {},
     "output_type": "execute_result"
    }
   ],
   "source": [
    "df_original.dtypes"
   ]
  },
  {
   "cell_type": "code",
   "execution_count": 99,
   "metadata": {},
   "outputs": [
    {
     "data": {
      "text/plain": [
       "Index(['Referencia', 'Tipo_vivienda', 'Dirección', 'Barrio', 'Distrito',\n",
       "       'Población', 'Superficie construida', 'Superficie útil',\n",
       "       'Superficie solar', 'Habitaciones', 'Baños', 'Planta', 'Antigüedad',\n",
       "       'Conservación', 'Gastos de comunidad', 'Precio', 'Precio/m²', 'PMZona',\n",
       "       'PMm²Zona', 'RMP', 'RMH', 'Descripción', 'Url_foto', 'Url_vivienda'],\n",
       "      dtype='object')"
      ]
     },
     "execution_count": 99,
     "metadata": {},
     "output_type": "execute_result"
    }
   ],
   "source": [
    "df_original.columns #Para seleccionar las columnas que se van a utilizar"
   ]
  },
  {
   "cell_type": "code",
   "execution_count": 100,
   "metadata": {},
   "outputs": [
    {
     "data": {
      "text/plain": [
       "Tipo_vivienda             object\n",
       "Superficie construida    float64\n",
       "Superficie útil          float64\n",
       "Superficie solar         float64\n",
       "Habitaciones               int64\n",
       "Baños                      int64\n",
       "Planta                    object\n",
       "Antigüedad                object\n",
       "Conservación              object\n",
       "Gastos de comunidad       object\n",
       "Precio                   float64\n",
       "PMZona                   float64\n",
       "PMm²Zona                 float64\n",
       "RMP                      float64\n",
       "RMH                      float64\n",
       "dtype: object"
      ]
     },
     "execution_count": 100,
     "metadata": {},
     "output_type": "execute_result"
    }
   ],
   "source": [
    "columnas_a_usar = [\n",
    "    'Tipo_vivienda', 'Superficie construida', 'Superficie útil',\n",
    "       'Superficie solar', 'Habitaciones', 'Baños', 'Planta', 'Antigüedad',\n",
    "       'Conservación', 'Gastos de comunidad', 'Precio', 'PMZona',\n",
    "       'PMm²Zona', 'RMP', 'RMH'\n",
    "]\n",
    "\n",
    "df = df_original[columnas_a_usar]\n",
    "df.dtypes"
   ]
  },
  {
   "cell_type": "markdown",
   "metadata": {},
   "source": [
    "# Tratamiento de columnas: nulos y dtypes"
   ]
  },
  {
   "cell_type": "code",
   "execution_count": 101,
   "metadata": {},
   "outputs": [
    {
     "data": {
      "text/plain": [
       "Tipo_vivienda               0\n",
       "Superficie construida       0\n",
       "Superficie útil          1648\n",
       "Superficie solar            0\n",
       "Habitaciones                0\n",
       "Baños                       0\n",
       "Planta                    550\n",
       "Antigüedad               2230\n",
       "Conservación             1042\n",
       "Gastos de comunidad      2253\n",
       "Precio                      0\n",
       "PMZona                      0\n",
       "PMm²Zona                    0\n",
       "RMP                         1\n",
       "RMH                         1\n",
       "dtype: int64"
      ]
     },
     "execution_count": 101,
     "metadata": {},
     "output_type": "execute_result"
    }
   ],
   "source": [
    "#Visualizamos los nulos\n",
    "df.isna().sum() "
   ]
  },
  {
   "cell_type": "markdown",
   "metadata": {},
   "source": [
    "Columna RMP/RMH"
   ]
  },
  {
   "cell_type": "code",
   "execution_count": 102,
   "metadata": {},
   "outputs": [
    {
     "data": {
      "text/html": [
       "<div>\n",
       "<style scoped>\n",
       "    .dataframe tbody tr th:only-of-type {\n",
       "        vertical-align: middle;\n",
       "    }\n",
       "\n",
       "    .dataframe tbody tr th {\n",
       "        vertical-align: top;\n",
       "    }\n",
       "\n",
       "    .dataframe thead th {\n",
       "        text-align: right;\n",
       "    }\n",
       "</style>\n",
       "<table border=\"1\" class=\"dataframe\">\n",
       "  <thead>\n",
       "    <tr style=\"text-align: right;\">\n",
       "      <th></th>\n",
       "      <th>Tipo_vivienda</th>\n",
       "      <th>Superficie construida</th>\n",
       "      <th>Superficie útil</th>\n",
       "      <th>Superficie solar</th>\n",
       "      <th>Habitaciones</th>\n",
       "      <th>Baños</th>\n",
       "      <th>Planta</th>\n",
       "      <th>Antigüedad</th>\n",
       "      <th>Conservación</th>\n",
       "      <th>Gastos de comunidad</th>\n",
       "      <th>Precio</th>\n",
       "      <th>PMZona</th>\n",
       "      <th>PMm²Zona</th>\n",
       "      <th>RMP</th>\n",
       "      <th>RMH</th>\n",
       "    </tr>\n",
       "  </thead>\n",
       "  <tbody>\n",
       "    <tr>\n",
       "      <th>123</th>\n",
       "      <td>Piso</td>\n",
       "      <td>120.0</td>\n",
       "      <td>102.0</td>\n",
       "      <td>0.0</td>\n",
       "      <td>4</td>\n",
       "      <td>2</td>\n",
       "      <td>2</td>\n",
       "      <td>NaN</td>\n",
       "      <td>En buen estado</td>\n",
       "      <td>NaN</td>\n",
       "      <td>289000.0</td>\n",
       "      <td>289000.0</td>\n",
       "      <td>2408.33</td>\n",
       "      <td>NaN</td>\n",
       "      <td>NaN</td>\n",
       "    </tr>\n",
       "  </tbody>\n",
       "</table>\n",
       "</div>"
      ],
      "text/plain": [
       "    Tipo_vivienda  Superficie construida  Superficie útil  Superficie solar  \\\n",
       "123          Piso                  120.0            102.0               0.0   \n",
       "\n",
       "     Habitaciones  Baños Planta Antigüedad    Conservación  \\\n",
       "123             4      2      2        NaN  En buen estado   \n",
       "\n",
       "    Gastos de comunidad    Precio    PMZona  PMm²Zona  RMP  RMH  \n",
       "123                 NaN  289000.0  289000.0   2408.33  NaN  NaN  "
      ]
     },
     "execution_count": 102,
     "metadata": {},
     "output_type": "execute_result"
    }
   ],
   "source": [
    "df[df['RMP'].isna()]"
   ]
  },
  {
   "cell_type": "code",
   "execution_count": 103,
   "metadata": {},
   "outputs": [],
   "source": [
    "df = df[~df['RMP'].isna()] #Son 2 valores, por lo que no representan un problema y se eliminan"
   ]
  },
  {
   "cell_type": "markdown",
   "metadata": {},
   "source": [
    "Columna Planta"
   ]
  },
  {
   "cell_type": "code",
   "execution_count": 104,
   "metadata": {},
   "outputs": [
    {
     "data": {
      "text/plain": [
       "array(['2', '3', '1', '0', nan, '4', '8', 'Sótano', '5', 'Bajo', '10',\n",
       "       'Principal', '11', '9', '7', '6', 'Entresuelo', 'Semisótano', '14',\n",
       "       '12', '13'], dtype=object)"
      ]
     },
     "execution_count": 104,
     "metadata": {},
     "output_type": "execute_result"
    }
   ],
   "source": [
    "df['Planta'].unique()"
   ]
  },
  {
   "cell_type": "code",
   "execution_count": 105,
   "metadata": {},
   "outputs": [],
   "source": [
    "df['Planta'] = df['Planta'].str.strip()\n",
    "df['Planta'] = df['Planta'].replace({'Sótano': -1, 'Semisótano': -0.5, 'Bajo': 0, 'Principal': 0.5, 'Entresuelo': 0})\n",
    "df['Planta'].unique()\n",
    "\n",
    "antes = df['Planta'].dropna().astype(float)"
   ]
  },
  {
   "cell_type": "markdown",
   "metadata": {},
   "source": [
    "Imputamos la mediana a los pisos que salen como nulos"
   ]
  },
  {
   "cell_type": "code",
   "execution_count": 106,
   "metadata": {},
   "outputs": [
    {
     "data": {
      "text/plain": [
       "dtype('float64')"
      ]
     },
     "execution_count": 106,
     "metadata": {},
     "output_type": "execute_result"
    }
   ],
   "source": [
    "median = (pd.to_numeric(df[~df['Planta'].isna()]['Planta']).median())\n",
    "df['Planta'].fillna(median, inplace=True)\n",
    "\n",
    "df['Planta'] = pd.to_numeric(df['Planta'], errors='coerce')\n",
    "\n",
    "df['Planta'].dtypes"
   ]
  },
  {
   "cell_type": "code",
   "execution_count": 107,
   "metadata": {},
   "outputs": [
    {
     "data": {
      "text/plain": [
       "1.0"
      ]
     },
     "execution_count": 107,
     "metadata": {},
     "output_type": "execute_result"
    }
   ],
   "source": [
    "median"
   ]
  },
  {
   "cell_type": "code",
   "execution_count": 108,
   "metadata": {},
   "outputs": [
    {
     "name": "stdout",
     "output_type": "stream",
     "text": [
      "1.0\n"
     ]
    },
    {
     "data": {
      "image/png": "[encoded data removed]",
      "text/plain": [
       "<Figure size 640x480 with 1 Axes>"
      ]
     },
     "metadata": {},
     "output_type": "display_data"
    }
   ],
   "source": [
    "import matplotlib.pyplot as plt\n",
    "\n",
    "print(median)\n",
    "despues=df['Planta']\n",
    "plt.hist(antes, alpha=0.5, label='Antes', color='red', density=True)\n",
    "plt.hist(despues, alpha=0.5, label='Después', color='black', density=True)\n",
    "\n",
    "plt.title('Distribución de la planta: antes y después de la imputación', fontweight='bold')\n",
    "\n",
    "plt.legend(loc='upper right')\n",
    "plt.show()"
   ]
  },
  {
   "cell_type": "code",
   "execution_count": 109,
   "metadata": {},
   "outputs": [
    {
     "data": {
      "text/plain": [
       "Tipo_vivienda               0\n",
       "Superficie construida       0\n",
       "Superficie útil          1648\n",
       "Superficie solar            0\n",
       "Habitaciones                0\n",
       "Baños                       0\n",
       "Planta                      0\n",
       "Antigüedad               2229\n",
       "Conservación             1042\n",
       "Gastos de comunidad      2252\n",
       "Precio                      0\n",
       "PMZona                      0\n",
       "PMm²Zona                    0\n",
       "RMP                         0\n",
       "RMH                         0\n",
       "dtype: int64"
      ]
     },
     "execution_count": 109,
     "metadata": {},
     "output_type": "execute_result"
    }
   ],
   "source": [
    "df.isna().sum()"
   ]
  },
  {
   "cell_type": "markdown",
   "metadata": {},
   "source": [
    "Eliminamos las columnas de \"Antigüedad\" y \"Gastos de comunidad\" porque contienen demasiados nulos (2229 y 2252).\n",
    "\n",
    "La columna \"Superficie útil\" también contiene el 50% de los nulos, por lo que también la eliminamos.\n",
    "\n",
    "Procedemos a probar 2 dataframes: uno con los datos de conservación y otro sin ellos."
   ]
  },
  {
   "cell_type": "code",
   "execution_count": 110,
   "metadata": {},
   "outputs": [],
   "source": [
    "columnas_a_usar = [\n",
    "    'Tipo_vivienda',\n",
    "    'Superficie construida',\n",
    "    'Superficie solar',\n",
    "    'Habitaciones',\n",
    "    'Baños',\n",
    "    'Planta',\n",
    "    'Conservación',\n",
    "    'Precio',\n",
    "    'PMZona',\n",
    "    'PMm²Zona',\n",
    "    'RMP',\n",
    "    'RMH'\n",
    " ]"
   ]
  },
  {
   "cell_type": "code",
   "execution_count": 111,
   "metadata": {},
   "outputs": [
    {
     "name": "stdout",
     "output_type": "stream",
     "text": [
      "Dimensiones del df: (1918, 12)\n"
     ]
    },
    {
     "data": {
      "text/plain": [
       "Tipo_vivienda             object\n",
       "Superficie construida    float64\n",
       "Superficie solar         float64\n",
       "Habitaciones               int64\n",
       "Baños                      int64\n",
       "Planta                   float64\n",
       "Conservación              object\n",
       "Precio                   float64\n",
       "PMZona                   float64\n",
       "PMm²Zona                 float64\n",
       "RMP                      float64\n",
       "RMH                      float64\n",
       "dtype: object"
      ]
     },
     "execution_count": 111,
     "metadata": {},
     "output_type": "execute_result"
    }
   ],
   "source": [
    "df = df[columnas_a_usar]\n",
    "\n",
    "#Eliminamos los nulos de conservación.\n",
    "df = df[~df['Conservación'].isna()]\n",
    "print(f'Dimensiones del df: {df.shape}')\n",
    "df.dtypes"
   ]
  },
  {
   "cell_type": "code",
   "execution_count": 112,
   "metadata": {},
   "outputs": [],
   "source": [
    "df['Conservación'] = df['Conservación'].str.strip()"
   ]
  },
  {
   "cell_type": "markdown",
   "metadata": {},
   "source": [
    "Superficie solar outliers"
   ]
  },
  {
   "cell_type": "code",
   "execution_count": 113,
   "metadata": {},
   "outputs": [
    {
     "name": "stdout",
     "output_type": "stream",
     "text": [
      "Antes: (1918, 12)\n",
      "Después: (1678, 12)\n"
     ]
    }
   ],
   "source": [
    "# Filtramos la columna de superficie solar ya que contiene outliers por encima (8k m2)\n",
    "\n",
    "print(f'Antes: {df.shape}')\n",
    "\n",
    "# Calculate the upper percentile\n",
    "upper_percentile = df['Superficie solar'].quantile(0.8)\n",
    "\n",
    "# Filter the dataframe to remove outliers\n",
    "df = df[df['Superficie solar'] <= upper_percentile]\n",
    "\n",
    "print(f'Después: {df.shape}')"
   ]
  },
  {
   "cell_type": "code",
   "execution_count": 114,
   "metadata": {},
   "outputs": [],
   "source": [
    "# Tras comprobar nuestro modelo, hemos decidido eliminar la columna de superficie solar ya que en los coeficientes nos aporta un valor nulo (0)\n",
    "df = df.drop(columns=['Superficie solar'])"
   ]
  },
  {
   "cell_type": "markdown",
   "metadata": {},
   "source": [
    "Outliers de precio"
   ]
  },
  {
   "cell_type": "code",
   "execution_count": 115,
   "metadata": {},
   "outputs": [
    {
     "data": {
      "text/plain": [
       "count    1.678000e+03\n",
       "mean     5.756443e+05\n",
       "std      7.664929e+05\n",
       "min      6.770000e+04\n",
       "25%      2.190000e+05\n",
       "50%      3.600000e+05\n",
       "75%      5.996750e+05\n",
       "max      1.120000e+07\n",
       "Name: Precio, dtype: float64"
      ]
     },
     "execution_count": 115,
     "metadata": {},
     "output_type": "execute_result"
    }
   ],
   "source": [
    "df['Precio'].describe()"
   ]
  },
  {
   "cell_type": "code",
   "execution_count": 116,
   "metadata": {},
   "outputs": [
    {
     "name": "stdout",
     "output_type": "stream",
     "text": [
      "Antes: (1678, 11)\n",
      "Después: (1596, 11)\n"
     ]
    },
    {
     "data": {
      "text/plain": [
       "count    1.596000e+03\n",
       "mean     4.357894e+05\n",
       "std      3.097142e+05\n",
       "min      6.770000e+04\n",
       "25%      2.139848e+05\n",
       "50%      3.394500e+05\n",
       "75%      5.482000e+05\n",
       "max      1.650000e+06\n",
       "Name: Precio, dtype: float64"
      ]
     },
     "execution_count": 116,
     "metadata": {},
     "output_type": "execute_result"
    }
   ],
   "source": [
    "# Filtramos la columna de precio para eliminar los outliers y nos quedamos con los percentiles entre 0.05 y 0.95\n",
    "\n",
    "print(f'Antes: {df.shape}')\n",
    "\n",
    "# Calculate the lower and upper percentiles\n",
    "upper_percentile = df['Precio'].quantile(0.95)\n",
    "\n",
    "# Filter the dataframe to remove outliers\n",
    "df = df[(df['Precio'] <= upper_percentile)]\n",
    "\n",
    "print(f'Después: {df.shape}')\n",
    "\n",
    "\n",
    "df['Precio'].describe()\n"
   ]
  },
  {
   "cell_type": "code",
   "execution_count": 117,
   "metadata": {},
   "outputs": [],
   "source": [
    "df.to_csv('Anuncio_Venta_ML_Limpio.csv', index=False, sep=';')"
   ]
  }
 ],
 "metadata": {
  "kernelspec": {
   "display_name": "Python 3",
   "language": "python",
   "name": "python3"
  },
  "language_info": {
   "codemirror_mode": {
    "name": "ipython",
    "version": 3
   },
   "file_extension": ".py",
   "mimetype": "text/x-python",
   "name": "python",
   "nbconvert_exporter": "python",
   "pygments_lexer": "ipython3",
   "version": "3.11.1"
  }
 },
 "nbformat": 4,
 "nbformat_minor": 2
}
