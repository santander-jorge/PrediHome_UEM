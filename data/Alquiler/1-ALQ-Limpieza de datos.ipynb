{
 "cells": [
  {
   "cell_type": "markdown",
   "metadata": {},
   "source": [
    "# Librerías y lectura"
   ]
  },
  {
   "cell_type": "markdown",
   "metadata": {},
   "source": [
    "Importación de librerías"
   ]
  },
  {
   "cell_type": "code",
   "execution_count": 1260,
   "metadata": {},
   "outputs": [],
   "source": [
    "import pandas as pd\n",
    "import numpy as np"
   ]
  },
  {
   "cell_type": "code",
   "execution_count": 1261,
   "metadata": {},
   "outputs": [],
   "source": [
    "#pip freeze > requirements.txt"
   ]
  },
  {
   "cell_type": "markdown",
   "metadata": {},
   "source": [
    "Lectura del CSV y primer vistazo"
   ]
  },
  {
   "cell_type": "code",
   "execution_count": 1262,
   "metadata": {},
   "outputs": [
    {
     "name": "stdout",
     "output_type": "stream",
     "text": [
      "El tamaño del dataframe es: (1545, 24)\n"
     ]
    },
    {
     "data": {
      "text/html": [
       "<div>\n",
       "<style scoped>\n",
       "    .dataframe tbody tr th:only-of-type {\n",
       "        vertical-align: middle;\n",
       "    }\n",
       "\n",
       "    .dataframe tbody tr th {\n",
       "        vertical-align: top;\n",
       "    }\n",
       "\n",
       "    .dataframe thead th {\n",
       "        text-align: right;\n",
       "    }\n",
       "</style>\n",
       "<table border=\"1\" class=\"dataframe\">\n",
       "  <thead>\n",
       "    <tr style=\"text-align: right;\">\n",
       "      <th></th>\n",
       "      <th>Referencia</th>\n",
       "      <th>Tipo_vivienda</th>\n",
       "      <th>Dirección</th>\n",
       "      <th>Barrio</th>\n",
       "      <th>Distrito</th>\n",
       "      <th>Población</th>\n",
       "      <th>Superficie construida</th>\n",
       "      <th>Superficie útil</th>\n",
       "      <th>Superficie solar</th>\n",
       "      <th>Habitaciones</th>\n",
       "      <th>...</th>\n",
       "      <th>Gastos de comunidad</th>\n",
       "      <th>Precio</th>\n",
       "      <th>Precio/m²</th>\n",
       "      <th>PMZona</th>\n",
       "      <th>PMm²Zona</th>\n",
       "      <th>RMP</th>\n",
       "      <th>RMH</th>\n",
       "      <th>Descripción</th>\n",
       "      <th>Url_foto</th>\n",
       "      <th>Url_vivienda</th>\n",
       "    </tr>\n",
       "  </thead>\n",
       "  <tbody>\n",
       "    <tr>\n",
       "      <th>0</th>\n",
       "      <td>2805-002380</td>\n",
       "      <td>Piso</td>\n",
       "      <td>Calle Francisco de Goya</td>\n",
       "      <td>Prado de Somosaguas</td>\n",
       "      <td>Pozuelo de Alarcón</td>\n",
       "      <td>Pozuelo de Alarcón</td>\n",
       "      <td>121.0</td>\n",
       "      <td>121.0</td>\n",
       "      <td>0.0</td>\n",
       "      <td>3</td>\n",
       "      <td>...</td>\n",
       "      <td>Incluidos</td>\n",
       "      <td>2100.0</td>\n",
       "      <td>17.36</td>\n",
       "      <td>4039.88</td>\n",
       "      <td>19.27</td>\n",
       "      <td>27167.0</td>\n",
       "      <td>86403.0</td>\n",
       "      <td>Ubicada en la primera planta, esta residencia ...</td>\n",
       "      <td>https://fotos.imghs.net/apps/2805/40873729625....</td>\n",
       "      <td>https://www.pisos.com/alquilar/piso-prado_de_s...</td>\n",
       "    </tr>\n",
       "    <tr>\n",
       "      <th>1</th>\n",
       "      <td>2805-002377</td>\n",
       "      <td>Piso</td>\n",
       "      <td>Calle Solano</td>\n",
       "      <td>Prado de Somosaguas</td>\n",
       "      <td>Pozuelo de Alarcón</td>\n",
       "      <td>Pozuelo de Alarcón</td>\n",
       "      <td>225.0</td>\n",
       "      <td>190.0</td>\n",
       "      <td>0.0</td>\n",
       "      <td>4</td>\n",
       "      <td>...</td>\n",
       "      <td>NaN</td>\n",
       "      <td>2500.0</td>\n",
       "      <td>11.11</td>\n",
       "      <td>4039.88</td>\n",
       "      <td>19.27</td>\n",
       "      <td>27167.0</td>\n",
       "      <td>86403.0</td>\n",
       "      <td>INMOBARALIA presenta una exclusiva oportunidad...</td>\n",
       "      <td>https://fotos.imghs.net/apps/2805/40056907134....</td>\n",
       "      <td>https://www.pisos.com/alquilar/piso-prado_de_s...</td>\n",
       "    </tr>\n",
       "    <tr>\n",
       "      <th>2</th>\n",
       "      <td>2805-002317</td>\n",
       "      <td>Casa</td>\n",
       "      <td>Calle XIX</td>\n",
       "      <td>Las Matas-Los Peñascales</td>\n",
       "      <td>Las Rozas de Madrid</td>\n",
       "      <td>Las Rozas de Madrid</td>\n",
       "      <td>600.0</td>\n",
       "      <td>600.0</td>\n",
       "      <td>0.0</td>\n",
       "      <td>6</td>\n",
       "      <td>...</td>\n",
       "      <td>NaN</td>\n",
       "      <td>4000.0</td>\n",
       "      <td>6.67</td>\n",
       "      <td>2561.81</td>\n",
       "      <td>12.41</td>\n",
       "      <td>21254.0</td>\n",
       "      <td>65428.0</td>\n",
       "      <td>Inmobaralia te ofrece la oportunidad de alquil...</td>\n",
       "      <td>https://fotos.imghs.net/apps/2805/29189878080....</td>\n",
       "      <td>https://www.pisos.com/alquilar/casa-las_matas_...</td>\n",
       "    </tr>\n",
       "    <tr>\n",
       "      <th>3</th>\n",
       "      <td>2805-002378</td>\n",
       "      <td>Piso</td>\n",
       "      <td>Calle de Sinesio Delgado</td>\n",
       "      <td>Almenara</td>\n",
       "      <td>Tetuán</td>\n",
       "      <td>Madrid Capital</td>\n",
       "      <td>89.0</td>\n",
       "      <td>89.0</td>\n",
       "      <td>0.0</td>\n",
       "      <td>2</td>\n",
       "      <td>...</td>\n",
       "      <td>Incluidos</td>\n",
       "      <td>1600.0</td>\n",
       "      <td>17.98</td>\n",
       "      <td>1950.70</td>\n",
       "      <td>21.77</td>\n",
       "      <td>17026.0</td>\n",
       "      <td>39991.0</td>\n",
       "      <td>Descubre tu nuevo hogar en este piso recién re...</td>\n",
       "      <td>https://fotos.imghs.net/apps/2805/40857548919....</td>\n",
       "      <td>https://www.pisos.com/alquilar/piso-tetuan_alm...</td>\n",
       "    </tr>\n",
       "    <tr>\n",
       "      <th>4</th>\n",
       "      <td>IF5695-240207-16</td>\n",
       "      <td>Ático</td>\n",
       "      <td>Calle de la Magdalena</td>\n",
       "      <td>Embajadores-Lavapiés</td>\n",
       "      <td>Centro</td>\n",
       "      <td>Madrid Capital</td>\n",
       "      <td>90.0</td>\n",
       "      <td>NaN</td>\n",
       "      <td>0.0</td>\n",
       "      <td>3</td>\n",
       "      <td>...</td>\n",
       "      <td>NaN</td>\n",
       "      <td>2000.0</td>\n",
       "      <td>22.22</td>\n",
       "      <td>2787.63</td>\n",
       "      <td>26.98</td>\n",
       "      <td>19199.0</td>\n",
       "      <td>38360.0</td>\n",
       "      <td>¡Casas y mas, alquila piso exterior de 3 dormi...</td>\n",
       "      <td>https://fotos.imghs.net/apps/1018/072/1018_102...</td>\n",
       "      <td>https://www.pisos.com/alquilar/atico-centro_em...</td>\n",
       "    </tr>\n",
       "  </tbody>\n",
       "</table>\n",
       "<p>5 rows × 24 columns</p>\n",
       "</div>"
      ],
      "text/plain": [
       "         Referencia Tipo_vivienda                 Dirección  \\\n",
       "0       2805-002380          Piso   Calle Francisco de Goya   \n",
       "1       2805-002377          Piso              Calle Solano   \n",
       "2       2805-002317          Casa                 Calle XIX   \n",
       "3       2805-002378          Piso  Calle de Sinesio Delgado   \n",
       "4  IF5695-240207-16         Ático     Calle de la Magdalena   \n",
       "\n",
       "                     Barrio             Distrito            Población  \\\n",
       "0       Prado de Somosaguas   Pozuelo de Alarcón   Pozuelo de Alarcón   \n",
       "1       Prado de Somosaguas   Pozuelo de Alarcón   Pozuelo de Alarcón   \n",
       "2  Las Matas-Los Peñascales  Las Rozas de Madrid  Las Rozas de Madrid   \n",
       "3                  Almenara               Tetuán       Madrid Capital   \n",
       "4      Embajadores-Lavapiés               Centro       Madrid Capital   \n",
       "\n",
       "   Superficie construida  Superficie útil  Superficie solar  Habitaciones  \\\n",
       "0                  121.0            121.0               0.0             3   \n",
       "1                  225.0            190.0               0.0             4   \n",
       "2                  600.0            600.0               0.0             6   \n",
       "3                   89.0             89.0               0.0             2   \n",
       "4                   90.0              NaN               0.0             3   \n",
       "\n",
       "   ...  Gastos de comunidad  Precio Precio/m²   PMZona PMm²Zona      RMP  \\\n",
       "0  ...            Incluidos  2100.0     17.36  4039.88    19.27  27167.0   \n",
       "1  ...                  NaN  2500.0     11.11  4039.88    19.27  27167.0   \n",
       "2  ...                  NaN  4000.0      6.67  2561.81    12.41  21254.0   \n",
       "3  ...            Incluidos  1600.0     17.98  1950.70    21.77  17026.0   \n",
       "4  ...                  NaN  2000.0     22.22  2787.63    26.98  19199.0   \n",
       "\n",
       "       RMH                                        Descripción  \\\n",
       "0  86403.0  Ubicada en la primera planta, esta residencia ...   \n",
       "1  86403.0  INMOBARALIA presenta una exclusiva oportunidad...   \n",
       "2  65428.0  Inmobaralia te ofrece la oportunidad de alquil...   \n",
       "3  39991.0  Descubre tu nuevo hogar en este piso recién re...   \n",
       "4  38360.0  ¡Casas y mas, alquila piso exterior de 3 dormi...   \n",
       "\n",
       "                                            Url_foto  \\\n",
       "0  https://fotos.imghs.net/apps/2805/40873729625....   \n",
       "1  https://fotos.imghs.net/apps/2805/40056907134....   \n",
       "2  https://fotos.imghs.net/apps/2805/29189878080....   \n",
       "3  https://fotos.imghs.net/apps/2805/40857548919....   \n",
       "4  https://fotos.imghs.net/apps/1018/072/1018_102...   \n",
       "\n",
       "                                        Url_vivienda  \n",
       "0  https://www.pisos.com/alquilar/piso-prado_de_s...  \n",
       "1  https://www.pisos.com/alquilar/piso-prado_de_s...  \n",
       "2  https://www.pisos.com/alquilar/casa-las_matas_...  \n",
       "3  https://www.pisos.com/alquilar/piso-tetuan_alm...  \n",
       "4  https://www.pisos.com/alquilar/atico-centro_em...  \n",
       "\n",
       "[5 rows x 24 columns]"
      ]
     },
     "execution_count": 1262,
     "metadata": {},
     "output_type": "execute_result"
    }
   ],
   "source": [
    "df_original = pd.read_csv('Anuncios_alquiler_dataset_final.csv', sep=';')\n",
    "\n",
    "# Eliminamos los espacios en blanco al principio y al final de cada celda\n",
    "df_original = df_original.applymap(lambda x: x.strip() if isinstance(x, str) else x)\n",
    "\n",
    "\n",
    "print('El tamaño del dataframe es:', df_original.shape)\n",
    "df_original.head(5)"
   ]
  },
  {
   "cell_type": "code",
   "execution_count": 1263,
   "metadata": {},
   "outputs": [],
   "source": [
    "dfdistrito = df_original.groupby('Distrito').first()[['RMH', 'PMm²Zona', 'PMZona']]\n",
    "dfdistrito.to_csv('Distrito_medidas_Alquiler.csv', sep=';')"
   ]
  },
  {
   "cell_type": "code",
   "execution_count": 1264,
   "metadata": {},
   "outputs": [],
   "source": [
    "pd.DataFrame(df_original['Tipo_vivienda'].unique(), columns=['TipoVivienda']).to_csv('Tipo_vivienda_Alquiler.csv', sep=';')"
   ]
  },
  {
   "cell_type": "code",
   "execution_count": 1265,
   "metadata": {},
   "outputs": [
    {
     "data": {
      "text/plain": [
       "Referencia                object\n",
       "Tipo_vivienda             object\n",
       "Dirección                 object\n",
       "Barrio                    object\n",
       "Distrito                  object\n",
       "Población                 object\n",
       "Superficie construida    float64\n",
       "Superficie útil          float64\n",
       "Superficie solar         float64\n",
       "Habitaciones               int64\n",
       "Baños                      int64\n",
       "Planta                    object\n",
       "Antigüedad                object\n",
       "Conservación              object\n",
       "Gastos de comunidad       object\n",
       "Precio                   float64\n",
       "Precio/m²                float64\n",
       "PMZona                   float64\n",
       "PMm²Zona                 float64\n",
       "RMP                      float64\n",
       "RMH                      float64\n",
       "Descripción               object\n",
       "Url_foto                  object\n",
       "Url_vivienda              object\n",
       "dtype: object"
      ]
     },
     "execution_count": 1265,
     "metadata": {},
     "output_type": "execute_result"
    }
   ],
   "source": [
    "df_original.dtypes"
   ]
  },
  {
   "cell_type": "code",
   "execution_count": 1266,
   "metadata": {},
   "outputs": [
    {
     "data": {
      "text/plain": [
       "Index(['Referencia', 'Tipo_vivienda', 'Dirección', 'Barrio', 'Distrito',\n",
       "       'Población', 'Superficie construida', 'Superficie útil',\n",
       "       'Superficie solar', 'Habitaciones', 'Baños', 'Planta', 'Antigüedad',\n",
       "       'Conservación', 'Gastos de comunidad', 'Precio', 'Precio/m²', 'PMZona',\n",
       "       'PMm²Zona', 'RMP', 'RMH', 'Descripción', 'Url_foto', 'Url_vivienda'],\n",
       "      dtype='object')"
      ]
     },
     "execution_count": 1266,
     "metadata": {},
     "output_type": "execute_result"
    }
   ],
   "source": [
    "df_original.columns #Para seleccionar las columnas que se van a utilizar"
   ]
  },
  {
   "cell_type": "code",
   "execution_count": 1267,
   "metadata": {},
   "outputs": [
    {
     "data": {
      "text/plain": [
       "Tipo_vivienda             object\n",
       "Superficie construida    float64\n",
       "Superficie útil          float64\n",
       "Superficie solar         float64\n",
       "Habitaciones               int64\n",
       "Baños                      int64\n",
       "Planta                    object\n",
       "Antigüedad                object\n",
       "Conservación              object\n",
       "Gastos de comunidad       object\n",
       "Precio                   float64\n",
       "PMZona                   float64\n",
       "PMm²Zona                 float64\n",
       "RMP                      float64\n",
       "RMH                      float64\n",
       "dtype: object"
      ]
     },
     "execution_count": 1267,
     "metadata": {},
     "output_type": "execute_result"
    }
   ],
   "source": [
    "columnas_a_usar = [\n",
    "    'Tipo_vivienda', 'Superficie construida', 'Superficie útil',\n",
    "       'Superficie solar', 'Habitaciones', 'Baños', 'Planta', 'Antigüedad',\n",
    "       'Conservación', 'Gastos de comunidad', 'Precio', 'PMZona',\n",
    "       'PMm²Zona', 'RMP', 'RMH'\n",
    "]\n",
    "\n",
    "df = df_original[columnas_a_usar]\n",
    "df.dtypes"
   ]
  },
  {
   "cell_type": "markdown",
   "metadata": {},
   "source": [
    "# Tratamiento de columnas: nulos y dtypes"
   ]
  },
  {
   "cell_type": "code",
   "execution_count": 1268,
   "metadata": {},
   "outputs": [
    {
     "data": {
      "text/plain": [
       "Tipo_vivienda               0\n",
       "Superficie construida       0\n",
       "Superficie útil           931\n",
       "Superficie solar            0\n",
       "Habitaciones                0\n",
       "Baños                       0\n",
       "Planta                    369\n",
       "Antigüedad               1249\n",
       "Conservación              544\n",
       "Gastos de comunidad      1511\n",
       "Precio                      0\n",
       "PMZona                      0\n",
       "PMm²Zona                    0\n",
       "RMP                         1\n",
       "RMH                         1\n",
       "dtype: int64"
      ]
     },
     "execution_count": 1268,
     "metadata": {},
     "output_type": "execute_result"
    }
   ],
   "source": [
    "#Visualizamos los nulos\n",
    "df.isna().sum() "
   ]
  },
  {
   "cell_type": "markdown",
   "metadata": {},
   "source": [
    "Columna RMP/RMH"
   ]
  },
  {
   "cell_type": "code",
   "execution_count": 1269,
   "metadata": {},
   "outputs": [
    {
     "data": {
      "text/html": [
       "<div>\n",
       "<style scoped>\n",
       "    .dataframe tbody tr th:only-of-type {\n",
       "        vertical-align: middle;\n",
       "    }\n",
       "\n",
       "    .dataframe tbody tr th {\n",
       "        vertical-align: top;\n",
       "    }\n",
       "\n",
       "    .dataframe thead th {\n",
       "        text-align: right;\n",
       "    }\n",
       "</style>\n",
       "<table border=\"1\" class=\"dataframe\">\n",
       "  <thead>\n",
       "    <tr style=\"text-align: right;\">\n",
       "      <th></th>\n",
       "      <th>Tipo_vivienda</th>\n",
       "      <th>Superficie construida</th>\n",
       "      <th>Superficie útil</th>\n",
       "      <th>Superficie solar</th>\n",
       "      <th>Habitaciones</th>\n",
       "      <th>Baños</th>\n",
       "      <th>Planta</th>\n",
       "      <th>Antigüedad</th>\n",
       "      <th>Conservación</th>\n",
       "      <th>Gastos de comunidad</th>\n",
       "      <th>Precio</th>\n",
       "      <th>PMZona</th>\n",
       "      <th>PMm²Zona</th>\n",
       "      <th>RMP</th>\n",
       "      <th>RMH</th>\n",
       "    </tr>\n",
       "  </thead>\n",
       "  <tbody>\n",
       "    <tr>\n",
       "      <th>1530</th>\n",
       "      <td>Estudio</td>\n",
       "      <td>88.0</td>\n",
       "      <td>35.0</td>\n",
       "      <td>0.0</td>\n",
       "      <td>6</td>\n",
       "      <td>3</td>\n",
       "      <td>Bajo</td>\n",
       "      <td>NaN</td>\n",
       "      <td>NaN</td>\n",
       "      <td>NaN</td>\n",
       "      <td>600.0</td>\n",
       "      <td>600.0</td>\n",
       "      <td>6.82</td>\n",
       "      <td>NaN</td>\n",
       "      <td>NaN</td>\n",
       "    </tr>\n",
       "  </tbody>\n",
       "</table>\n",
       "</div>"
      ],
      "text/plain": [
       "     Tipo_vivienda  Superficie construida  Superficie útil  Superficie solar  \\\n",
       "1530       Estudio                   88.0             35.0               0.0   \n",
       "\n",
       "      Habitaciones  Baños Planta Antigüedad Conservación Gastos de comunidad  \\\n",
       "1530             6      3   Bajo        NaN          NaN                 NaN   \n",
       "\n",
       "      Precio  PMZona  PMm²Zona  RMP  RMH  \n",
       "1530   600.0   600.0      6.82  NaN  NaN  "
      ]
     },
     "execution_count": 1269,
     "metadata": {},
     "output_type": "execute_result"
    }
   ],
   "source": [
    "df[df['RMP'].isna()]"
   ]
  },
  {
   "cell_type": "code",
   "execution_count": 1270,
   "metadata": {},
   "outputs": [],
   "source": [
    "df = df[~df['RMP'].isna()] #Son 2 valores, por lo que no representan un problema y se eliminan"
   ]
  },
  {
   "cell_type": "markdown",
   "metadata": {},
   "source": [
    "Columna Planta"
   ]
  },
  {
   "cell_type": "code",
   "execution_count": 1271,
   "metadata": {},
   "outputs": [
    {
     "data": {
      "text/plain": [
       "0             191\n",
       "2             189\n",
       "3             185\n",
       "1             177\n",
       "4             136\n",
       "5              78\n",
       "6              68\n",
       "Bajo           56\n",
       "7              40\n",
       "8              19\n",
       "9              11\n",
       "10              5\n",
       "Semisótano      4\n",
       "15              4\n",
       "11              3\n",
       "Principal       3\n",
       "12              2\n",
       "Entresuelo      2\n",
       "16              1\n",
       "13              1\n",
       "Name: Planta, dtype: int64"
      ]
     },
     "execution_count": 1271,
     "metadata": {},
     "output_type": "execute_result"
    }
   ],
   "source": [
    "import matplotlib.pyplot as plt\n",
    "\n",
    "df['Planta'].value_counts()"
   ]
  },
  {
   "cell_type": "code",
   "execution_count": 1272,
   "metadata": {},
   "outputs": [],
   "source": [
    "df['Planta'] = df['Planta'].str.strip()\n",
    "df['Planta'] = df['Planta'].replace({'Sótano': -1, 'Semisótano': -0.5, 'Bajo': 0, 'Principal': 0.5, 'Entresuelo': 0})\n",
    "df['Planta'].unique()\n",
    "\n",
    "antes = df['Planta'].dropna().astype(float)"
   ]
  },
  {
   "cell_type": "markdown",
   "metadata": {},
   "source": [
    "Imputamos la mediana a los pisos que salen como nulos"
   ]
  },
  {
   "cell_type": "code",
   "execution_count": 1273,
   "metadata": {},
   "outputs": [
    {
     "data": {
      "text/plain": [
       "dtype('float64')"
      ]
     },
     "execution_count": 1273,
     "metadata": {},
     "output_type": "execute_result"
    }
   ],
   "source": [
    "median = (pd.to_numeric(df[~df['Planta'].isna()]['Planta']).median())\n",
    "df['Planta'].fillna(median, inplace=True)\n",
    "\n",
    "df['Planta'] = pd.to_numeric(df['Planta'], errors='coerce')\n",
    "\n",
    "df['Planta'].dtypes"
   ]
  },
  {
   "cell_type": "code",
   "execution_count": 1274,
   "metadata": {},
   "outputs": [
    {
     "data": {
      "text/plain": [
       "2.0"
      ]
     },
     "execution_count": 1274,
     "metadata": {},
     "output_type": "execute_result"
    }
   ],
   "source": [
    "median"
   ]
  },
  {
   "cell_type": "code",
   "execution_count": 1275,
   "metadata": {},
   "outputs": [
    {
     "name": "stdout",
     "output_type": "stream",
     "text": [
      "2.0\n"
     ]
    },
    {
     "data": {
      "image/png": "[encoded data removed]",
      "text/plain": [
       "<Figure size 640x480 with 1 Axes>"
      ]
     },
     "metadata": {},
     "output_type": "display_data"
    }
   ],
   "source": [
    "print(median)\n",
    "despues=df['Planta']\n",
    "plt.hist(antes, alpha=0.5, label='Antes', color='red', density=True)\n",
    "plt.hist(despues, alpha=0.5, label='Después', color='black', density=True)\n",
    "\n",
    "plt.title('Distribución de la planta: antes y después de la imputación', fontweight='bold')\n",
    "\n",
    "plt.legend(loc='upper right')\n",
    "plt.show()"
   ]
  },
  {
   "cell_type": "code",
   "execution_count": 1276,
   "metadata": {},
   "outputs": [
    {
     "data": {
      "text/plain": [
       "Tipo_vivienda               0\n",
       "Superficie construida       0\n",
       "Superficie útil           931\n",
       "Superficie solar            0\n",
       "Habitaciones                0\n",
       "Baños                       0\n",
       "Planta                      0\n",
       "Antigüedad               1248\n",
       "Conservación              543\n",
       "Gastos de comunidad      1510\n",
       "Precio                      0\n",
       "PMZona                      0\n",
       "PMm²Zona                    0\n",
       "RMP                         0\n",
       "RMH                         0\n",
       "dtype: int64"
      ]
     },
     "execution_count": 1276,
     "metadata": {},
     "output_type": "execute_result"
    }
   ],
   "source": [
    "df.isna().sum()"
   ]
  },
  {
   "cell_type": "markdown",
   "metadata": {},
   "source": [
    "Eliminamos las columnas de \"Antigüedad\" y \"Gastos de comunidad\" porque contienen demasiados nulos (1248 y 1510).\n",
    "\n",
    "La columna \"Superficie útil\" también contiene casi el 50% de los nulos, por lo que también la eliminamos.\n",
    "\n",
    "Procedemos a probar 2 dataframes: uno con los datos de conservación y otro sin ellos."
   ]
  },
  {
   "cell_type": "code",
   "execution_count": 1277,
   "metadata": {},
   "outputs": [],
   "source": [
    "columnas_a_usar = [\n",
    "    'Tipo_vivienda',\n",
    "    'Superficie construida',\n",
    "    'Superficie solar',\n",
    "    'Habitaciones',\n",
    "    'Baños',\n",
    "    'Planta',\n",
    "    'Conservación',\n",
    "    'Precio',\n",
    "    'PMZona',\n",
    "    'PMm²Zona',\n",
    "    'RMP',\n",
    "    'RMH'\n",
    " ]"
   ]
  },
  {
   "cell_type": "code",
   "execution_count": 1278,
   "metadata": {},
   "outputs": [
    {
     "name": "stdout",
     "output_type": "stream",
     "text": [
      "Dimensiones del df: (1001, 12)\n"
     ]
    },
    {
     "data": {
      "text/plain": [
       "Tipo_vivienda             object\n",
       "Superficie construida    float64\n",
       "Superficie solar         float64\n",
       "Habitaciones               int64\n",
       "Baños                      int64\n",
       "Planta                   float64\n",
       "Conservación              object\n",
       "Precio                   float64\n",
       "PMZona                   float64\n",
       "PMm²Zona                 float64\n",
       "RMP                      float64\n",
       "RMH                      float64\n",
       "dtype: object"
      ]
     },
     "execution_count": 1278,
     "metadata": {},
     "output_type": "execute_result"
    }
   ],
   "source": [
    "df = df[columnas_a_usar]\n",
    "\n",
    "#Eliminamos los nulos de conservación.\n",
    "df = df[~df['Conservación'].isna()]\n",
    "print(f'Dimensiones del df: {df.shape}')\n",
    "df.dtypes"
   ]
  },
  {
   "cell_type": "markdown",
   "metadata": {},
   "source": [
    "Superficie solar outliers"
   ]
  },
  {
   "cell_type": "code",
   "execution_count": 1279,
   "metadata": {},
   "outputs": [
    {
     "name": "stdout",
     "output_type": "stream",
     "text": [
      "Antes: (1001, 12)\n",
      "Después: (949, 12)\n"
     ]
    }
   ],
   "source": [
    "# Filtramos la columna de superficie solar ya que contiene outliers por encima (8k m2)\n",
    "\n",
    "print(f'Antes: {df.shape}')\n",
    "\n",
    "# Calculate the upper percentile\n",
    "upper_percentile = df['Superficie solar'].quantile(0.8)\n",
    "\n",
    "# Filter the dataframe to remove outliers\n",
    "df = df[df['Superficie solar'] <= upper_percentile]\n",
    "print(f'Después: {df.shape}')"
   ]
  },
  {
   "cell_type": "code",
   "execution_count": 1280,
   "metadata": {},
   "outputs": [],
   "source": [
    "# Tras comprobar nuestro modelo, hemos decidido eliminar la columna de superficie solar ya que en los coeficientes nos aporta un valor nulo (0)\n",
    "df = df.drop(columns=['Superficie solar'])"
   ]
  },
  {
   "cell_type": "markdown",
   "metadata": {},
   "source": [
    "Outliers de precio"
   ]
  },
  {
   "cell_type": "code",
   "execution_count": 1281,
   "metadata": {},
   "outputs": [
    {
     "data": {
      "text/plain": [
       "count      949.000000\n",
       "mean      2592.180190\n",
       "std       2051.987015\n",
       "min        580.000000\n",
       "25%       1200.000000\n",
       "50%       1900.000000\n",
       "75%       3278.000000\n",
       "max      15000.000000\n",
       "Name: Precio, dtype: float64"
      ]
     },
     "execution_count": 1281,
     "metadata": {},
     "output_type": "execute_result"
    }
   ],
   "source": [
    "df['Precio'].describe()"
   ]
  },
  {
   "cell_type": "code",
   "execution_count": 1282,
   "metadata": {},
   "outputs": [
    {
     "name": "stdout",
     "output_type": "stream",
     "text": [
      "Antes: (949, 11)\n",
      "Después: (901, 11)\n"
     ]
    },
    {
     "data": {
      "text/plain": [
       "count     901.000000\n",
       "mean     2249.643729\n",
       "std      1371.333532\n",
       "min       580.000000\n",
       "25%      1200.000000\n",
       "50%      1800.000000\n",
       "75%      3000.000000\n",
       "max      6800.000000\n",
       "Name: Precio, dtype: float64"
      ]
     },
     "execution_count": 1282,
     "metadata": {},
     "output_type": "execute_result"
    }
   ],
   "source": [
    "# Filtramos la columna de precio para eliminar los outliers por arroba de 0.95\n",
    "\n",
    "print(f'Antes: {df.shape}')\n",
    "\n",
    "# Calculate the lower and upper percentiles\n",
    "upper_percentile = df['Precio'].quantile(0.95)\n",
    "\n",
    "# Filter the dataframe to remove outliers\n",
    "df = df[(df['Precio'] <= upper_percentile)]\n",
    "\n",
    "print(f'Después: {df.shape}')\n",
    "\n",
    "\n",
    "df['Precio'].describe()\n"
   ]
  },
  {
   "cell_type": "code",
   "execution_count": 1283,
   "metadata": {},
   "outputs": [],
   "source": [
    "df.to_csv('Anuncio_Alquiler_ML_Limpio.csv', index=False, sep=';')"
   ]
  }
 ],
 "metadata": {
  "kernelspec": {
   "display_name": "Python 3",
   "language": "python",
   "name": "python3"
  },
  "language_info": {
   "codemirror_mode": {
    "name": "ipython",
    "version": 3
   },
   "file_extension": ".py",
   "mimetype": "text/x-python",
   "name": "python",
   "nbconvert_exporter": "python",
   "pygments_lexer": "ipython3",
   "version": "3.11.1"
  }
 },
 "nbformat": 4,
 "nbformat_minor": 2
}
